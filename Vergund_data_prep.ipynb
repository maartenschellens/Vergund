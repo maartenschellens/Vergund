{
 "cells": [
  {
   "cell_type": "code",
   "execution_count": 5,
   "id": "9cf4a700",
   "metadata": {},
   "outputs": [],
   "source": [
    "import pandas as pd\n",
    "import numpy as np\n",
    "import datetime\n",
    "import random"
   ]
  },
  {
   "cell_type": "code",
   "execution_count": 18,
   "id": "acf3ac21",
   "metadata": {},
   "outputs": [],
   "source": [
    "straatlijst = pd.ExcelFile(\"C:/Users/rotterdam/Documents/Python scripts/Vergund/Straatnamen.xlsx\").parse(0).values\n",
    "vergunning_list = ['alcoholvergunning', 'nachthoreca', 'terrasvergunning', 'exploitatievergunning', 'omgevingsvergunning']"
   ]
  },
  {
   "cell_type": "code",
   "execution_count": 9,
   "id": "c4588a76",
   "metadata": {},
   "outputs": [],
   "source": [
    "start_year = 2022\n",
    "end_year = start_year + 5\n",
    "\n",
    "start_date = datetime.date(start_year, 6, 16)\n",
    "end_date = datetime.date(end_year, 6, 16)\n",
    "\n",
    "time_between_dates = end_date - start_date\n",
    "days_between_dates = time_between_dates.days\n"
   ]
  },
  {
   "cell_type": "code",
   "execution_count": 41,
   "id": "5161d975",
   "metadata": {},
   "outputs": [],
   "source": [
    "output_vergunningslijst = []\n",
    "for i in range(2500):\n",
    "    straat = random.choice(straatlijst)[0]\n",
    "    huisnr = random.randint(1, 200)\n",
    "    adres = straat + ' ' + str(huisnr)\n",
    "    \n",
    "    vergunning = random.choice(vergunning_list)\n",
    "    \n",
    "    random_number_of_days = random.randrange(days_between_dates)\n",
    "    datum = start_date + datetime.timedelta(days=random_number_of_days)\n",
    "    \n",
    "    output_vergunningslijst.append([straat, huisnr, adres, vergunning, datum])"
   ]
  },
  {
   "cell_type": "code",
   "execution_count": 45,
   "id": "e5eb19bf",
   "metadata": {},
   "outputs": [],
   "source": [
    "df_horeca = pd.DataFrame(output_vergunningslijst, columns= ['straat', 'huisnr', 'adres', 'vergunning', 'vergund tot'])"
   ]
  },
  {
   "cell_type": "code",
   "execution_count": 46,
   "id": "075e0ea8",
   "metadata": {},
   "outputs": [],
   "source": [
    "df_horeca.to_csv('testdf_horeca.csv')"
   ]
  },
  {
   "cell_type": "code",
   "execution_count": null,
   "id": "7a8ce509",
   "metadata": {},
   "outputs": [],
   "source": []
  }
 ],
 "metadata": {
  "kernelspec": {
   "display_name": "Python 3 (ipykernel)",
   "language": "python",
   "name": "python3"
  },
  "language_info": {
   "codemirror_mode": {
    "name": "ipython",
    "version": 3
   },
   "file_extension": ".py",
   "mimetype": "text/x-python",
   "name": "python",
   "nbconvert_exporter": "python",
   "pygments_lexer": "ipython3",
   "version": "3.8.8"
  }
 },
 "nbformat": 4,
 "nbformat_minor": 5
}
